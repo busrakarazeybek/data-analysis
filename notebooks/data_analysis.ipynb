{
 "cells": [
  {
   "cell_type": "code",
   "execution_count": null,
   "metadata": {},
   "outputs": [],
   "source": []
  },
  {
   "cell_type": "code",
   "execution_count": null,
   "metadata": {},
   "outputs": [],
   "source": []
  },
  {
   "cell_type": "markdown",
   "metadata": {},
   "source": [
    "# Data Analysis\n",
    "\n",
    "This notebook contains exploratory data analysis for the project.\n",
    "\n",
    "```python\n",
    "import pandas as pd\n",
    "import matplotlib.pyplot as plt\n",
    "\n",
    "# Load cleaned data\n",
    "df = pd.read_csv('../data/processed/cleaned_data.csv')\n",
    "\n",
    "# Perform EDA\n",
    "print(df.describe())\n",
    "\n",
    "# Visualize data\n",
    "plt.figure(figsize=(10, 6))\n",
    "df['value'].hist(bins=30)\n",
    "plt.title('Value Distribution')\n",
    "plt.show()\n"
   ]
  }
 ],
 "metadata": {
  "language_info": {
   "name": "python"
  }
 },
 "nbformat": 4,
 "nbformat_minor": 2
}
